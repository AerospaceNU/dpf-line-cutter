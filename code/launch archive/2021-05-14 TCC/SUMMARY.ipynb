{
 "cells": [
  {
   "cell_type": "code",
   "execution_count": 16,
   "metadata": {},
   "outputs": [],
   "source": [
    "import matplotlib.pyplot as plt\n",
    "import numpy as np\n",
    "import random"
   ]
  },
  {
   "cell_type": "code",
   "execution_count": 17,
   "metadata": {},
   "outputs": [],
   "source": [
    "def csvRead(filepath):\n",
    "    data = np.genfromtxt(filepath, delimiter=',', skip_header=1)\n",
    "    return data\n",
    "\n",
    "darthPlagueis = csvRead('FLIGHT DATA/pcb3_darthplagueis_flightdata.csv')\n",
    "apple = csvRead('FLIGHT DATA/pcb4_apple_flightdata.csv')"
   ]
  },
  {
   "cell_type": "code",
   "execution_count": 18,
   "metadata": {},
   "outputs": [],
   "source": [
    "def filterData(array):\n",
    "    deployedRow = np.where(array[:,0] == 1)[0][0]\n",
    "    landedRow = np.where(array[:,0] == 4)[0][0]\n",
    "    return array[deployedRow-250:landedRow+100]\n",
    "\n",
    "def filterData2(array, deployedRow, landedRow):\n",
    "    return array[deployedRow-250:landedRow+100]\n",
    "\n",
    "def stateTransitionRows(array):\n",
    "    rows = []\n",
    "    for i in range(1,5):\n",
    "        rows.append(np.where(array[:,0] == i)[0][0])\n",
    "    return rows\n",
    "\n",
    "def seaLevel(pressure, altitude):\n",
    "    return pressure / pow(1.0 - (altitude / 44330.76), 5.25588);\n",
    "\n",
    "def addAltitudeColumns(array, seaLevel):\n",
    "    pressureCol = array[:,3]\n",
    "    altitudeCol = 44330.76 * (1.0 - pow(pressureCol / seaLevel, 1.0 / 5.25588))\n",
    "    withAlt = np.concatenate((array, np.expand_dims(altitudeCol, 1)), axis=1)\n",
    "    \n",
    "    processedAltitude = np.zeros((pressureCol.shape[0], 3))\n",
    "    for i in range (altitudeCol.shape[0]):\n",
    "        if (i < 40):\n",
    "            processedAltitude[i,0] = np.average(altitudeCol[:i+1])\n",
    "        else:\n",
    "            processedAltitude[i,0] = np.average(altitudeCol[i-39:i+1])\n",
    "    processedAltitude[0,1] = 0\n",
    "    for i in range (1, altitudeCol.shape[0]):\n",
    "        processedAltitude[i,1] = (processedAltitude[i,0] - processedAltitude[i-1,0]) * 20\n",
    "    for i in range (altitudeCol.shape[0]):\n",
    "        if (i < 40):\n",
    "            processedAltitude[i,2] = np.average(processedAltitude[:i+1, 1])\n",
    "        else:\n",
    "            processedAltitude[i,2] = np.average(processedAltitude[i-39:i+1, 1])\n",
    "    return np.concatenate((withAlt, processedAltitude), axis=1)\n",
    "\n",
    "def plotData(array, headers, lineColor):\n",
    "    timeCol = 1\n",
    "    yColumns = [3, 16, 6, 4, 14, 18, 10, 13]\n",
    "    numPlots = len(yColumns)\n",
    "    plotColumns = (numPlots+1)//2\n",
    "    stateChangeRows = []\n",
    "    print('State changes at times: ', end=' ')\n",
    "    for i in range(1,5):\n",
    "        stateChangeRows.append(np.where(array[:,0] == i)[0][0])\n",
    "        print(array[stateChangeRows[i-1], timeCol], end='  ')\n",
    "    print()\n",
    "    fig, axs = plt.subplots(2, plotColumns, figsize=(16, 6), sharex=True)\n",
    "    for i in range(numPlots):\n",
    "        currentAx = axs[i//plotColumns, i%plotColumns]\n",
    "        currentAx.plot(array[:,timeCol], array[:,yColumns[i]], linewidth=0.5, color=lineColor)\n",
    "        currentAx.set_title(headers[yColumns[i]])\n",
    "        for row in stateChangeRows:\n",
    "            currentAx.axvline(array[row,timeCol], color='black', linewidth=0.5)\n",
    "            \n",
    "def plotData2(array, headers, lineColor):\n",
    "    timeCol = 1\n",
    "    yColumns = [3, 16, 6, 4, 14, 18, 10, 13]\n",
    "    numPlots = len(yColumns)\n",
    "    plotColumns = (numPlots+1)//2\n",
    "    fig, axs = plt.subplots(2, plotColumns, figsize=(16, 6), sharex=True)\n",
    "    for i in range(numPlots):\n",
    "        currentAx = axs[i//plotColumns, i%plotColumns]\n",
    "        currentAx.plot(array[:,timeCol], array[:,yColumns[i]], linewidth=0.5, color=lineColor)\n",
    "        currentAx.set_title(headers[yColumns[i]])"
   ]
  },
  {
   "cell_type": "code",
   "execution_count": 19,
   "metadata": {},
   "outputs": [],
   "source": [
    "dataHeaders = ['State', 'Time (s)', 'Time (ms)', 'Pressure [Pa]', 'Temperature (C)', 'Temperature (C/100)',\n",
    "               'Accel (G)', 'Accel X', 'Accel Y', 'Accel Z',\n",
    "               'Batt Sense', 'Cut Sense 1', 'Cut Sense 2', 'Current Sense', 'Photoresistor',\n",
    "               'Altitude (m)', 'Smoothed Altitude (m)', 'Delta Altitude (m/s)', 'Smoothed Delta Altitude (m/s)']\n",
    "dataSets = [darthPlagueis, apple]\n",
    "\n",
    "def blackMagic(array, lineColor, pressure, altitude):\n",
    "    \n",
    "    plotData(addAltitudeColumns(filterData(array), seaLevel(pressure, altitude)), dataHeaders, lineColor)\n",
    "    \n",
    "def blackMagic2(array, lineColor, pressure, altitude, deployedRow, landedRow):\n",
    "    plotData2(addAltitudeColumns(filterData2(array, deployedRow, landedRow), seaLevel(pressure, altitude)), dataHeaders, lineColor)"
   ]
  },
  {
   "cell_type": "markdown",
   "metadata": {},
   "source": [
    "# Matt's flight"
   ]
  },
  {
   "cell_type": "markdown",
   "metadata": {},
   "source": [
    "TODO   "
   ]
  },
  {
   "cell_type": "markdown",
   "metadata": {},
   "source": [
    "## Darth Plagueis (PCB 3)"
   ]
  },
  {
   "cell_type": "code",
   "execution_count": 20,
   "metadata": {},
   "outputs": [
    {
     "output_type": "stream",
     "name": "stdout",
     "text": [
      "State changes at times:  nan  nan  nan  nan  \n"
     ]
    },
    {
     "output_type": "error",
     "ename": "IndexError",
     "evalue": "index 18 is out of bounds for axis 1 with size 18",
     "traceback": [
      "\u001b[1;31m---------------------------------------------------------------------------\u001b[0m",
      "\u001b[1;31mIndexError\u001b[0m                                Traceback (most recent call last)",
      "\u001b[1;32m<ipython-input-20-8b17564eb49a>\u001b[0m in \u001b[0;36m<module>\u001b[1;34m\u001b[0m\n\u001b[1;32m----> 1\u001b[1;33m \u001b[0mblackMagic\u001b[0m\u001b[1;33m(\u001b[0m\u001b[0mdarthPlagueis\u001b[0m\u001b[1;33m,\u001b[0m \u001b[1;34m'teal'\u001b[0m\u001b[1;33m,\u001b[0m \u001b[1;36m96549\u001b[0m\u001b[1;33m,\u001b[0m \u001b[1;36m502.00\u001b[0m\u001b[1;33m)\u001b[0m\u001b[1;33m\u001b[0m\u001b[1;33m\u001b[0m\u001b[0m\n\u001b[0m",
      "\u001b[1;32m<ipython-input-19-fb6e0071d529>\u001b[0m in \u001b[0;36mblackMagic\u001b[1;34m(array, lineColor, pressure, altitude)\u001b[0m\n\u001b[0;32m      7\u001b[0m \u001b[1;32mdef\u001b[0m \u001b[0mblackMagic\u001b[0m\u001b[1;33m(\u001b[0m\u001b[0marray\u001b[0m\u001b[1;33m,\u001b[0m \u001b[0mlineColor\u001b[0m\u001b[1;33m,\u001b[0m \u001b[0mpressure\u001b[0m\u001b[1;33m,\u001b[0m \u001b[0maltitude\u001b[0m\u001b[1;33m)\u001b[0m\u001b[1;33m:\u001b[0m\u001b[1;33m\u001b[0m\u001b[1;33m\u001b[0m\u001b[0m\n\u001b[0;32m      8\u001b[0m \u001b[1;33m\u001b[0m\u001b[0m\n\u001b[1;32m----> 9\u001b[1;33m     \u001b[0mplotData\u001b[0m\u001b[1;33m(\u001b[0m\u001b[0maddAltitudeColumns\u001b[0m\u001b[1;33m(\u001b[0m\u001b[0mfilterData\u001b[0m\u001b[1;33m(\u001b[0m\u001b[0marray\u001b[0m\u001b[1;33m)\u001b[0m\u001b[1;33m,\u001b[0m \u001b[0mseaLevel\u001b[0m\u001b[1;33m(\u001b[0m\u001b[0mpressure\u001b[0m\u001b[1;33m,\u001b[0m \u001b[0maltitude\u001b[0m\u001b[1;33m)\u001b[0m\u001b[1;33m)\u001b[0m\u001b[1;33m,\u001b[0m \u001b[0mdataHeaders\u001b[0m\u001b[1;33m,\u001b[0m \u001b[0mlineColor\u001b[0m\u001b[1;33m)\u001b[0m\u001b[1;33m\u001b[0m\u001b[1;33m\u001b[0m\u001b[0m\n\u001b[0m\u001b[0;32m     10\u001b[0m \u001b[1;33m\u001b[0m\u001b[0m\n\u001b[0;32m     11\u001b[0m \u001b[1;32mdef\u001b[0m \u001b[0mblackMagic2\u001b[0m\u001b[1;33m(\u001b[0m\u001b[0marray\u001b[0m\u001b[1;33m,\u001b[0m \u001b[0mlineColor\u001b[0m\u001b[1;33m,\u001b[0m \u001b[0mpressure\u001b[0m\u001b[1;33m,\u001b[0m \u001b[0maltitude\u001b[0m\u001b[1;33m,\u001b[0m \u001b[0mdeployedRow\u001b[0m\u001b[1;33m,\u001b[0m \u001b[0mlandedRow\u001b[0m\u001b[1;33m)\u001b[0m\u001b[1;33m:\u001b[0m\u001b[1;33m\u001b[0m\u001b[1;33m\u001b[0m\u001b[0m\n",
      "\u001b[1;32m<ipython-input-18-65b7a679e88c>\u001b[0m in \u001b[0;36mplotData\u001b[1;34m(array, headers, lineColor)\u001b[0m\n\u001b[0;32m     51\u001b[0m     \u001b[1;32mfor\u001b[0m \u001b[0mi\u001b[0m \u001b[1;32min\u001b[0m \u001b[0mrange\u001b[0m\u001b[1;33m(\u001b[0m\u001b[0mnumPlots\u001b[0m\u001b[1;33m)\u001b[0m\u001b[1;33m:\u001b[0m\u001b[1;33m\u001b[0m\u001b[1;33m\u001b[0m\u001b[0m\n\u001b[0;32m     52\u001b[0m         \u001b[0mcurrentAx\u001b[0m \u001b[1;33m=\u001b[0m \u001b[0maxs\u001b[0m\u001b[1;33m[\u001b[0m\u001b[0mi\u001b[0m\u001b[1;33m//\u001b[0m\u001b[0mplotColumns\u001b[0m\u001b[1;33m,\u001b[0m \u001b[0mi\u001b[0m\u001b[1;33m%\u001b[0m\u001b[0mplotColumns\u001b[0m\u001b[1;33m]\u001b[0m\u001b[1;33m\u001b[0m\u001b[1;33m\u001b[0m\u001b[0m\n\u001b[1;32m---> 53\u001b[1;33m         \u001b[0mcurrentAx\u001b[0m\u001b[1;33m.\u001b[0m\u001b[0mplot\u001b[0m\u001b[1;33m(\u001b[0m\u001b[0marray\u001b[0m\u001b[1;33m[\u001b[0m\u001b[1;33m:\u001b[0m\u001b[1;33m,\u001b[0m\u001b[0mtimeCol\u001b[0m\u001b[1;33m]\u001b[0m\u001b[1;33m,\u001b[0m \u001b[0marray\u001b[0m\u001b[1;33m[\u001b[0m\u001b[1;33m:\u001b[0m\u001b[1;33m,\u001b[0m\u001b[0myColumns\u001b[0m\u001b[1;33m[\u001b[0m\u001b[0mi\u001b[0m\u001b[1;33m]\u001b[0m\u001b[1;33m]\u001b[0m\u001b[1;33m,\u001b[0m \u001b[0mlinewidth\u001b[0m\u001b[1;33m=\u001b[0m\u001b[1;36m0.5\u001b[0m\u001b[1;33m,\u001b[0m \u001b[0mcolor\u001b[0m\u001b[1;33m=\u001b[0m\u001b[0mlineColor\u001b[0m\u001b[1;33m)\u001b[0m\u001b[1;33m\u001b[0m\u001b[1;33m\u001b[0m\u001b[0m\n\u001b[0m\u001b[0;32m     54\u001b[0m         \u001b[0mcurrentAx\u001b[0m\u001b[1;33m.\u001b[0m\u001b[0mset_title\u001b[0m\u001b[1;33m(\u001b[0m\u001b[0mheaders\u001b[0m\u001b[1;33m[\u001b[0m\u001b[0myColumns\u001b[0m\u001b[1;33m[\u001b[0m\u001b[0mi\u001b[0m\u001b[1;33m]\u001b[0m\u001b[1;33m]\u001b[0m\u001b[1;33m)\u001b[0m\u001b[1;33m\u001b[0m\u001b[1;33m\u001b[0m\u001b[0m\n\u001b[0;32m     55\u001b[0m         \u001b[1;32mfor\u001b[0m \u001b[0mrow\u001b[0m \u001b[1;32min\u001b[0m \u001b[0mstateChangeRows\u001b[0m\u001b[1;33m:\u001b[0m\u001b[1;33m\u001b[0m\u001b[1;33m\u001b[0m\u001b[0m\n",
      "\u001b[1;31mIndexError\u001b[0m: index 18 is out of bounds for axis 1 with size 18"
     ]
    }
   ],
   "source": [
    "blackMagic(darthPlagueis, 'teal', 96549, 502.00)"
   ]
  },
  {
   "cell_type": "markdown",
   "metadata": {},
   "source": [
    "## Apple (PCB 4)"
   ]
  },
  {
   "cell_type": "code",
   "execution_count": null,
   "metadata": {},
   "outputs": [],
   "source": [
    "blackMagic(apple, 'forestgreen', 96595, 500.28)"
   ]
  },
  {
   "cell_type": "code",
   "execution_count": null,
   "metadata": {},
   "outputs": [],
   "source": []
  }
 ],
 "metadata": {
  "kernelspec": {
   "name": "python385jvsc74a57bd027e51d9869a86ed31c6d232a30492375277492976997f955be30b722c624d282",
   "display_name": "Python 3.8.5 32-bit"
  },
  "language_info": {
   "codemirror_mode": {
    "name": "ipython",
    "version": 3
   },
   "file_extension": ".py",
   "mimetype": "text/x-python",
   "name": "python",
   "nbconvert_exporter": "python",
   "pygments_lexer": "ipython3",
   "version": "3.8.5"
  },
  "metadata": {
   "interpreter": {
    "hash": "27e51d9869a86ed31c6d232a30492375277492976997f955be30b722c624d282"
   }
  }
 },
 "nbformat": 4,
 "nbformat_minor": 4
}